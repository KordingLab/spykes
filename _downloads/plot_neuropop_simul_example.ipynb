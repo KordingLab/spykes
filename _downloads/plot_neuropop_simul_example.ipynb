{
  "nbformat_minor": 0, 
  "nbformat": 4, 
  "cells": [
    {
      "execution_count": null, 
      "cell_type": "code", 
      "source": [
        "%matplotlib inline"
      ], 
      "outputs": [], 
      "metadata": {
        "collapsed": false
      }
    }, 
    {
      "source": [
        "\n# Neuropop Example\n\n\nA demonstration of Neuropop using simulated data\n\n\n"
      ], 
      "cell_type": "markdown", 
      "metadata": {}
    }, 
    {
      "execution_count": null, 
      "cell_type": "code", 
      "source": [
        "import numpy as np\nimport matplotlib.pyplot as plt\n\nfrom spykes.ml.neuropop import NeuroPop\nfrom spykes.utils import train_test_split"
      ], 
      "outputs": [], 
      "metadata": {
        "collapsed": false
      }
    }, 
    {
      "source": [
        "Create a NeuroPop object\n-----------------------------\n\n"
      ], 
      "cell_type": "markdown", 
      "metadata": {}
    }, 
    {
      "execution_count": null, 
      "cell_type": "code", 
      "source": [
        "n_neurons = 10\npop = NeuroPop(n_neurons=n_neurons, tunemodel='glm')"
      ], 
      "outputs": [], 
      "metadata": {
        "collapsed": false
      }
    }, 
    {
      "source": [
        "Simulate a population of neurons\n-----------------------------\n\n"
      ], 
      "cell_type": "markdown", 
      "metadata": {}
    }, 
    {
      "execution_count": null, 
      "cell_type": "code", 
      "source": [
        "n_samples = 1000\nx, Y, mu, k0, k, g, b = pop.simulate(pop.tunemodel, n_samples=n_samples,\n                                     winsize=400.0)"
      ], 
      "outputs": [], 
      "metadata": {
        "collapsed": false
      }
    }, 
    {
      "source": [
        "Split into training and testing sets\n-----------------------------\n\n"
      ], 
      "cell_type": "markdown", 
      "metadata": {}
    }, 
    {
      "execution_count": null, 
      "cell_type": "code", 
      "source": [
        "np.random.seed(42)\n(Y_train, Y_test), (x_train, x_test) = train_test_split(Y, x, percent=0.5)"
      ], 
      "outputs": [], 
      "metadata": {
        "collapsed": false
      }
    }, 
    {
      "source": [
        "Fit the tuning curves with gradient descent\n-----------------------------\n\n"
      ], 
      "cell_type": "markdown", 
      "metadata": {}
    }, 
    {
      "execution_count": null, 
      "cell_type": "code", 
      "source": [
        "pop.fit(x_train, Y_train)"
      ], 
      "outputs": [], 
      "metadata": {
        "collapsed": false
      }
    }, 
    {
      "source": [
        "Predict the population activity with the fit tuning curves\n-----------------------------\n\n"
      ], 
      "cell_type": "markdown", 
      "metadata": {}
    }, 
    {
      "execution_count": null, 
      "cell_type": "code", 
      "source": [
        "Yhat_test = pop.predict(x_test)"
      ], 
      "outputs": [], 
      "metadata": {
        "collapsed": false
      }
    }, 
    {
      "source": [
        "Score the prediction\n-----------------------------\n\n"
      ], 
      "cell_type": "markdown", 
      "metadata": {}
    }, 
    {
      "execution_count": null, 
      "cell_type": "code", 
      "source": [
        "Ynull = np.mean(Y_train, axis=0)\npseudo_R2 = pop.score(Y_test, Yhat_test, Ynull, method='pseudo_R2')\nprint(pseudo_R2)"
      ], 
      "outputs": [], 
      "metadata": {
        "collapsed": false
      }
    }, 
    {
      "source": [
        "Plot the simulated and fit tuning curves\n-----------------------------\n\n"
      ], 
      "cell_type": "markdown", 
      "metadata": {}
    }, 
    {
      "execution_count": null, 
      "cell_type": "code", 
      "source": [
        "plt.figure(figsize=[15, 15])\n\nfor neuron in range(pop.n_neurons):\n    plt.subplot(4, 3, neuron + 1)\n    pop.display(x_test, Y_test[:, neuron], neuron=neuron,\n                ylim=[0.8 * np.min(Y_test[:, neuron]), 1.2 *\n                np.max(Y_test[:, neuron])])\n\nplt.show()"
      ], 
      "outputs": [], 
      "metadata": {
        "collapsed": false
      }
    }, 
    {
      "source": [
        "Decode feature from the population activity\n-----------------------------\n\n"
      ], 
      "cell_type": "markdown", 
      "metadata": {}
    }, 
    {
      "execution_count": null, 
      "cell_type": "code", 
      "source": [
        "xhat_test = pop.decode(Y_test)"
      ], 
      "outputs": [], 
      "metadata": {
        "collapsed": false
      }
    }, 
    {
      "source": [
        "Visualize ground truth vs. decoded estimates\n-----------------------------\n\n"
      ], 
      "cell_type": "markdown", 
      "metadata": {}
    }, 
    {
      "execution_count": null, 
      "cell_type": "code", 
      "source": [
        "plt.figure(figsize=[6, 5])\n\nplt.plot(x_test, xhat_test, 'k.', alpha=0.5)\nplt.xlim([-1.2 * np.pi, 1.2 * np.pi])\nplt.ylim([-1.2 * np.pi, 1.2 * np.pi])\nplt.xlabel('Ground truth [radians]')\nplt.ylabel('Decoded [radians]')\nplt.tick_params(axis='y', right='off')\nplt.tick_params(axis='x', top='off')\nax = plt.gca()\nax.spines['top'].set_visible(False)\nax.spines['right'].set_visible(False)\n\nplt.figure(figsize=[15, 5])\njitter = 0.2 * np.random.rand(x_test.shape[0])\nplt.subplot(132, polar=True)\nplt.plot(x_test, np.ones(x_test.shape[0]) + jitter, 'ko', alpha=0.5)\nplt.title('Ground truth')\n\nplt.subplot(133, polar=True)\nplt.plot(xhat_test, np.ones(xhat_test.shape[0]) + jitter, 'co', alpha=0.5)\nplt.title('Decoded')\nplt.show()"
      ], 
      "outputs": [], 
      "metadata": {
        "collapsed": false
      }
    }, 
    {
      "source": [
        "Score decoding performance\n-----------------------------\n\n"
      ], 
      "cell_type": "markdown", 
      "metadata": {}
    }, 
    {
      "execution_count": null, 
      "cell_type": "code", 
      "source": [
        "# Circular correlation\ncirc_corr = pop.score(x_test, xhat_test, method='circ_corr')\nprint('Circular correlation: %f' % (circ_corr))"
      ], 
      "outputs": [], 
      "metadata": {
        "collapsed": false
      }
    }, 
    {
      "execution_count": null, 
      "cell_type": "code", 
      "source": [
        "# Cosine distance\ncosine_dist = pop.score(x_test, xhat_test, method='cosine_dist')\nprint('Cosine distance: %f' % (cosine_dist))"
      ], 
      "outputs": [], 
      "metadata": {
        "collapsed": false
      }
    }
  ], 
  "metadata": {
    "kernelspec": {
      "display_name": "Python 2", 
      "name": "python2", 
      "language": "python"
    }, 
    "language_info": {
      "mimetype": "text/x-python", 
      "nbconvert_exporter": "python", 
      "name": "python", 
      "file_extension": ".py", 
      "version": "2.7.10", 
      "pygments_lexer": "ipython2", 
      "codemirror_mode": {
        "version": 2, 
        "name": "ipython"
      }
    }
  }
}