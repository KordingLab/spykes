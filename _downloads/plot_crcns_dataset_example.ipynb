{
  "nbformat_minor": 0, 
  "nbformat": 4, 
  "cells": [
    {
      "execution_count": null, 
      "cell_type": "code", 
      "source": [
        "%matplotlib inline"
      ], 
      "outputs": [], 
      "metadata": {
        "collapsed": false
      }
    }, 
    {
      "source": [
        "\n# CRCNS DataSet Example\n\n\nA demonstration of Spykes's functionality to reproduce a figure from Li et al's\n\"A motor cortex circuit for motor planning and movement.\"\n\n\n"
      ], 
      "cell_type": "markdown", 
      "metadata": {}
    }, 
    {
      "execution_count": null, 
      "cell_type": "code", 
      "source": [
        "# Authors: Eric Larson <larson.eric.d@gmail.com>\n#\n# License: BSD (3-clause)"
      ], 
      "outputs": [], 
      "metadata": {
        "collapsed": false
      }
    }, 
    {
      "execution_count": null, 
      "cell_type": "code", 
      "source": [
        "import os\n\nimport numpy as np\nimport pandas as pd\nimport matplotlib.pyplot as plt\nimport scipy.io\n\nfrom spykes.plot.neurovis import NeuroVis\nfrom spykes.config import get_data_directory\n\nplt.style.use('seaborn-ticks')"
      ], 
      "outputs": [], 
      "metadata": {
        "collapsed": false
      }
    }, 
    {
      "source": [
        "0 Overview: Reproduce Figure\n-----------------------------\n\n0.1 Article\n~~~~~~~~~~~~~\n\nLi, Nuo, et al. \"A motor cortex circuit for motor planning and movement.\"\nNature 519.7541 (2015): 51-56.\n[`link to\npaper\n<http://www.nature.com/nature/journal/v519/n7541/full/nature14178.html>`__].\nWe aim to reproduce\n`this figure\n<http://www.nature.com/nature/journal/v519/n7541/fig_tab/nature14178_F2.html>`__\n\n\n0.2 Dataset\n~~~~~~~~~~~~~~~~~~~~~~~~~~~~~~~~~~~~~~~~~~~~~~\n\nNuo Li, Charles R Gerfen, Karel Svoboda (2014); Extracellular recordings\nfrom anterior lateral motor cortex (ALM) neurons of adult mice\nperforming a tactile decision behavior. CRCNS.org [`link to\ndataset <https://crcns.org/data-sets/motor-cortex/alm-1>`__]\n\n"
      ], 
      "cell_type": "markdown", 
      "metadata": {}
    }, 
    {
      "source": [
        "1 Data\n--------------------\n\n1.1 Download Data\n~~~~~~~~~~~~~~~~~\n\nRegister in ``CRCNS`` [`link to request account\n<https://crcns.org/request-account>`__]\n\nDownload file ``data_structure_ANM218457.tar.gz`` [`link\n<https://portal.nersc.gov/project/crcns/download/alm-1/datafiles/data_structure_files>`__]\n\nUnzip it and you will find file ``data_structure_ANM218457_20131006.mat``\n\nMove this file to the right data directory.\n\n1.2 Load Data\n~~~~~~~~~~~~~\n\n"
      ], 
      "cell_type": "markdown", 
      "metadata": {}
    }, 
    {
      "execution_count": null, 
      "cell_type": "code", 
      "source": [
        "fpath = os.path.join('data_structure_ANM218457_20131006.mat')\nmat = scipy.io.loadmat(fpath)"
      ], 
      "outputs": [], 
      "metadata": {
        "collapsed": false
      }
    }, 
    {
      "source": [
        "2 Get Spike Times\n--------------------\n\n"
      ], 
      "cell_type": "markdown", 
      "metadata": {}
    }, 
    {
      "execution_count": null, 
      "cell_type": "code", 
      "source": [
        "neuron_n = 9\nspike_times = mat['obj']['eventSeriesHash'][0][\n    0]['value'][0][0][0][neuron_n - 1][0][0][1]\nspike_times = [i[0] for i in spike_times]\n\n# instantiate neuron\nneuron = NeuroVis(spike_times, neuron_n)\nprint('neuron %d has a firing rate of %0.2f spikes per second' %\n      (neuron_n, neuron.firingrate))"
      ], 
      "outputs": [], 
      "metadata": {
        "collapsed": false
      }
    }, 
    {
      "source": [
        "Let's use all the goodness of ``pandas`` to define all our conditions.\nHere, we will create a set of extra columns in the data frame that are\ngoing to be useful to select and plot PSTHs for specific conditions. We\naim to follow the principles outlined in `Hadley Wickam's white paper on\nTidy Data <http://vita.had.co.nz/papers/tidy-data.pdf>`__.\n\n"
      ], 
      "cell_type": "markdown", 
      "metadata": {}
    }, 
    {
      "source": [
        "3 Get Event Times\n--------------------\n\n"
      ], 
      "cell_type": "markdown", 
      "metadata": {}
    }, 
    {
      "execution_count": null, 
      "cell_type": "code", 
      "source": [
        "data_df = pd.DataFrame()\ndata_df['trialStart'] = mat['obj']['trialStartTimes'][0][0][0]\ndata_df['cueTimes'] = np.squeeze(\n    mat['obj']['trialPropertiesHash'][0][0][0][0][2][0][2])\ndata_df['RealCueTimes'] = data_df['trialStart'] + data_df['cueTimes']\n\n# Collect all the events and display them\nevents = ['trialStart', 'cueTimes', 'RealCueTimes']\ndata_df[events].head()"
      ], 
      "outputs": [], 
      "metadata": {
        "collapsed": false
      }
    }, 
    {
      "source": [
        "4 Get Features\n--------------------\n\n"
      ], 
      "cell_type": "markdown", 
      "metadata": {}
    }, 
    {
      "execution_count": null, 
      "cell_type": "code", 
      "source": [
        "trialTypeMat = mat['obj']['trialTypeMat'][0][0].astype(np.bool_)\ntrialTypeStr = np.squeeze(\n    np.stack(np.squeeze(mat['obj']['trialTypeStr'][0][0])))\n\nfor ind, feat in enumerate(trialTypeStr):\n    data_df[str(feat)] = trialTypeMat[ind]\n\ndata_df['GoodTrials'] = np.squeeze(\n    mat['obj']['trialPropertiesHash'][0][0][0][0][2][0][3]).astype(np.bool_)\n\n# Collect all features and display them\nfeatures = ['HitR', 'HitL', 'ErrR', 'ErrL', 'NoLickR',\n            'NoLickL', 'LickEarly', 'StimTrials', 'GoodTrials']\ndata_df[features].head()"
      ], 
      "outputs": [], 
      "metadata": {
        "collapsed": false
      }
    }, 
    {
      "source": [
        "5 Define Features\n--------------------\n\n"
      ], 
      "cell_type": "markdown", 
      "metadata": {}
    }, 
    {
      "execution_count": null, 
      "cell_type": "code", 
      "source": [
        "features_of_interst = ['HitR', 'HitL', 'ErrR', 'ErrL']\n\ndata_df['response'] = data_df[features_of_interst].apply(\n    lambda row: row.argmax() if row.max() else '', axis=1)\ndata_df['correct'] = data_df['response'].map(\n    lambda s: {'Hit': True, 'Err': False, '': np.nan}[s[:3]])\ndata_df['response'] = data_df['response'].map(\n    lambda s: {'L': 'Lick left', 'R': 'Lick right', '': ''}[s[-1:]])\n\ndata_df[['HitR', 'HitL', 'ErrR', 'ErrL', 'correct', 'response']].head()"
      ], 
      "outputs": [], 
      "metadata": {
        "collapsed": false
      }
    }, 
    {
      "source": [
        "Let's put the events and the augmented features into a new data frame\nwhich we will use everywhere below.\n\n"
      ], 
      "cell_type": "markdown", 
      "metadata": {}
    }, 
    {
      "execution_count": null, 
      "cell_type": "code", 
      "source": [
        "# isolate trials of interest\ntrials_df = data_df[((data_df['GoodTrials'] == True) &\n                    (data_df['correct'] == True))]"
      ], 
      "outputs": [], 
      "metadata": {
        "collapsed": false
      }
    }, 
    {
      "source": [
        "6 Plots\n--------------------\n\n6.1 Rasters\n~~~~~~~~~~~~~~~~~~~\n\n"
      ], 
      "cell_type": "markdown", 
      "metadata": {}
    }, 
    {
      "execution_count": null, 
      "cell_type": "code", 
      "source": [
        "event = 'RealCueTimes'\nconditions = 'response'\nwindow = [-3000, 2000]\n\nrasters_fig2b1 = neuron.get_raster(event=event,\n                                   conditions=conditions,\n                                   df=trials_df,\n                                   window=window,\n                                   binsize=20,\n                                   sortby='rate',\n                                   sortorder='ascend')"
      ], 
      "outputs": [], 
      "metadata": {
        "collapsed": false
      }
    }, 
    {
      "source": [
        "6.2 PSTH\n~~~~~~~~~~~~~~~~~~~\n\n"
      ], 
      "cell_type": "markdown", 
      "metadata": {}
    }, 
    {
      "execution_count": null, 
      "cell_type": "code", 
      "source": [
        "plt.figure(figsize=(8, 5))\nneuron.get_psth(event=event,\n                df=trials_df,\n                conditions=conditions,\n                window=window,\n                binsize=100)\nplt.title('')\nplt.show()"
      ], 
      "outputs": [], 
      "metadata": {
        "collapsed": false
      }
    }, 
    {
      "source": [
        "6.3 Reproduce Figure\n~~~~~~~~~~~~~~~~~~~~~~\n\n"
      ], 
      "cell_type": "markdown", 
      "metadata": {}
    }, 
    {
      "execution_count": null, 
      "cell_type": "code", 
      "source": [
        "plt.style.use('seaborn-ticks')\n\ncmap = [plt.get_cmap('Blues'), plt.get_cmap('Reds')]\ncolors = ['#E82F3A', '#3B439A']\n\n\n# get rasters------------------------------------------------------\nrasters_fig2b1 = neuron.get_raster(event=event,\n                                   conditions=conditions,\n                                   df=trials_df,\n                                   window=window,\n                                   binsize=20,\n                                   plot=False)\n\n\nplt.figure(figsize=(8, 10))\ncond_ids = rasters_fig2b1['data'].keys()[::-1]\n\n# plot rasters-------------------------------------------------------\nfor i, cond_id in enumerate(cond_ids):\n    plt.subplot(4, 1, i + 1)\n    neuron.plot_raster(rasters=rasters_fig2b1,\n                       cond_id=cond_id,\n                       cmap=cmap[i],\n                       sortby=None,\n                       has_title=False)\n    plt.xlabel('')\n\n\n# plot psth-------------------------------------------------------\nplt.subplot(212)\npsth = neuron.get_psth(event=event,\n                       conditions=conditions,\n                       df=trials_df,\n                       window=window,\n                       binsize=100,\n                       plot=True,\n                       colors=colors)\nplt.title('')\nplt.show()"
      ], 
      "outputs": [], 
      "metadata": {
        "collapsed": false
      }
    }, 
    {
      "source": [
        "6.4 ggplot\n~~~~~~~~~~~~\n\n"
      ], 
      "cell_type": "markdown", 
      "metadata": {}
    }, 
    {
      "execution_count": null, 
      "cell_type": "code", 
      "source": [
        "plt.style.use('ggplot')\n\nplt.figure(figsize=(8, 5))\nneuron.get_psth(event=event,\n                conditions=conditions,\n                df=trials_df,\n                event_name='Cue On',\n                window=window,\n                conditions_names=['Lick Left', 'Lick Right'],\n                binsize=100)\nplt.title('')\nplt.show()"
      ], 
      "outputs": [], 
      "metadata": {
        "collapsed": false
      }
    }
  ], 
  "metadata": {
    "kernelspec": {
      "display_name": "Python 2", 
      "name": "python2", 
      "language": "python"
    }, 
    "language_info": {
      "mimetype": "text/x-python", 
      "nbconvert_exporter": "python", 
      "name": "python", 
      "file_extension": ".py", 
      "version": "2.7.10", 
      "pygments_lexer": "ipython2", 
      "codemirror_mode": {
        "version": 2, 
        "name": "ipython"
      }
    }
  }
}