{
  "nbformat_minor": 0, 
  "nbformat": 4, 
  "cells": [
    {
      "execution_count": null, 
      "cell_type": "code", 
      "source": [
        "%matplotlib inline"
      ], 
      "outputs": [], 
      "metadata": {
        "collapsed": false
      }
    }, 
    {
      "source": [
        "\n# PopVis Example\n\n\n\n"
      ], 
      "cell_type": "markdown", 
      "metadata": {}
    }, 
    {
      "execution_count": null, 
      "cell_type": "code", 
      "source": [
        "# Authors: Mayank Agrawal <mayankagrawal96@gmail.com>\n#\n# License: MIT"
      ], 
      "outputs": [], 
      "metadata": {
        "collapsed": false
      }
    }, 
    {
      "execution_count": null, 
      "cell_type": "code", 
      "source": [
        "import numpy as np\nimport matplotlib.pyplot as plt\n\nimport pandas as pd\nfrom spykes.plot.neurovis import NeuroVis\nfrom spykes.plot.popvis import PopVis\nfrom spykes.io.datasets import load_reward_data\nimport random"
      ], 
      "outputs": [], 
      "metadata": {
        "collapsed": false
      }
    }, 
    {
      "source": [
        "0 Initialization\n-----------------------------\n\n0.1 Download Data\n~~~~~~~~~~~~~\n\nDownload all files [`here\n<https://figshare.com/articles/Ramkumar_et_al_2016_Premotor_and_motor_cortices_encode_reward/3573447>`__]\nHowever, we'll only be looking at Mihili_08062013.mat (Monkey M, Session 4)\n\n0.2 Read In Data\n~~~~~~~~~~~~~~~~~~~~~~~~~~~~~~~~~~~~~~~~~~~~~~\n\n"
      ], 
      "cell_type": "markdown", 
      "metadata": {}
    }, 
    {
      "execution_count": null, 
      "cell_type": "code", 
      "source": [
        "_, mat = load_reward_data()"
      ], 
      "outputs": [], 
      "metadata": {
        "collapsed": false
      }
    }, 
    {
      "source": [
        "0.3 Initialize Variables\n~~~~~~~~~~~~~~~~~~~~~~~~~~~~~~~~~~~~~~~~~~~~~~\n\n"
      ], 
      "cell_type": "markdown", 
      "metadata": {}
    }, 
    {
      "execution_count": null, 
      "cell_type": "code", 
      "source": [
        "event = 'rewardTime'\ncondition = 'rewardBool'\nwindow = [-500, 1500]\nbinsize = 10"
      ], 
      "outputs": [], 
      "metadata": {
        "collapsed": false
      }
    }, 
    {
      "source": [
        "1 PopVis\n-----------------------------\n\n1.1 Initiate all Neurons\n~~~~~~~~~~~~~\n\n"
      ], 
      "cell_type": "markdown", 
      "metadata": {}
    }, 
    {
      "execution_count": null, 
      "cell_type": "code", 
      "source": [
        "def get_spike_time(raw_data, neuron_number):\n\n    spike_times = raw_data['alldays'][0][\n        'PMd_units'][0][:][neuron_number - 1][0][1:]\n    spike_times = [i[0] for i in spike_times]\n\n    return spike_times"
      ], 
      "outputs": [], 
      "metadata": {
        "collapsed": false
      }
    }, 
    {
      "execution_count": null, 
      "cell_type": "code", 
      "source": [
        "def initiate_neurons(raw_data):\n\n    neuron_list = list()\n\n    for i in range((raw_data['alldays'][0]['PMd_units'][0][:]).shape[0]):\n        spike_times = get_spike_time(raw_data, i + 1)\n\n        # instantiate neuron\n        neuron = NeuroVis(spike_times, name='PMd %d' % (i + 1))\n        neuron_list.append(neuron)\n\n    return neuron_list"
      ], 
      "outputs": [], 
      "metadata": {
        "collapsed": false
      }
    }, 
    {
      "execution_count": null, 
      "cell_type": "code", 
      "source": [
        "neuron_list = initiate_neurons(mat)"
      ], 
      "outputs": [], 
      "metadata": {
        "collapsed": false
      }
    }, 
    {
      "source": [
        "1.2 Get Event Times\n~~~~~~~~~~~~~\n\n"
      ], 
      "cell_type": "markdown", 
      "metadata": {}
    }, 
    {
      "execution_count": null, 
      "cell_type": "code", 
      "source": [
        "def create_data_frame(raw_data):\n\n    data_df = pd.DataFrame()\n\n    uncertainty_conditions = list()\n    center_target_times = list()\n    reward_times = list()\n    reward_outcomes = list()\n\n    for i in range(raw_data['alldays'].shape[0]):\n\n        meta_data = raw_data['alldays'][i]['tt'][0]\n\n        uncertainty_conditions.append(meta_data[:, 2])\n        center_target_times.append(meta_data[:, 3])\n        reward_times.append(meta_data[:, 6])\n        reward_outcomes.append(meta_data[:, 7])\n\n    data_df['uncertaintyCondition'] = np.concatenate(uncertainty_conditions)\n    data_df['centerTargetTime'] = np.concatenate(center_target_times)\n    data_df['rewardTime'] = np.concatenate(reward_times)\n    data_df['rewardOutcome'] = np.concatenate(reward_outcomes)\n\n    data_df['rewardBool'] = data_df['rewardOutcome'].map(lambda s: s == 32)\n\n    # find time in between previous reward onset and start of current trial\n    # shouldn't be more than 1500ms\n\n    start_times = data_df['centerTargetTime']\n    last_reward_times = np.roll(data_df['rewardTime'], 1)\n\n    diffs = start_times - last_reward_times\n    diffs[0] = 0\n\n    data_df['consecutiveBool'] = diffs.map(lambda s: s <= 1.5)\n\n    return data_df[((data_df['uncertaintyCondition'] == 5.0) |\n                   (data_df['uncertaintyCondition'] == 50.0)) &\n                   data_df['consecutiveBool']]"
      ], 
      "outputs": [], 
      "metadata": {
        "collapsed": false
      }
    }, 
    {
      "execution_count": null, 
      "cell_type": "code", 
      "source": [
        "data_df = create_data_frame(mat)\nprint(len(data_df))\ndata_df.head()"
      ], 
      "outputs": [], 
      "metadata": {
        "collapsed": false
      }
    }, 
    {
      "source": [
        "1.3 Create PopVis Object\n~~~~~~~~~~~~~\n\n"
      ], 
      "cell_type": "markdown", 
      "metadata": {}
    }, 
    {
      "execution_count": null, 
      "cell_type": "code", 
      "source": [
        "neuron_list = initiate_neurons(mat)[:10]  # let's just look at first 10 neurons\npop = PopVis(neuron_list)"
      ], 
      "outputs": [], 
      "metadata": {
        "collapsed": false
      }
    }, 
    {
      "source": [
        "1.3.1 Plot Heat Map\n^^^^^^^^^^^^^^^^^^^\n\n"
      ], 
      "cell_type": "markdown", 
      "metadata": {}
    }, 
    {
      "execution_count": null, 
      "cell_type": "code", 
      "source": [
        "fig = plt.figure(figsize=(10, 10))\nfig.subplots_adjust(hspace=.3)\nall_psth = pop.get_all_psth(\n    event=event, df=data_df, conditions=condition, window=window,\n    binsize=binsize, plot=True)"
      ], 
      "outputs": [], 
      "metadata": {
        "collapsed": false
      }
    }, 
    {
      "source": [
        "1.3.2 Plot Heat Map. Sort by Peak Latency\n^^^^^^^^^^^^^^^^^^^\n\n"
      ], 
      "cell_type": "markdown", 
      "metadata": {}
    }, 
    {
      "execution_count": null, 
      "cell_type": "code", 
      "source": [
        "fig = plt.figure(figsize=(10, 10))\nfig.subplots_adjust(hspace=.3)\npop.plot_heat_map(all_psth, sortby='latency')"
      ], 
      "outputs": [], 
      "metadata": {
        "collapsed": false
      }
    }, 
    {
      "source": [
        "1.3.3 Plot Heat Map. Sort by Avg Firing Rate in Ascending Order.\n^^^^^^^^^^^^^^^^^^^\n\n"
      ], 
      "cell_type": "markdown", 
      "metadata": {}
    }, 
    {
      "execution_count": null, 
      "cell_type": "code", 
      "source": [
        "fig = plt.figure(figsize=(10, 10))\nfig.subplots_adjust(hspace=.3)\npop.plot_heat_map(all_psth, sortby='rate', sortorder='ascend')"
      ], 
      "outputs": [], 
      "metadata": {
        "collapsed": false
      }
    }, 
    {
      "source": [
        "1.3.4 Plot Heat Map. Normalize Each Neuron Individually.\n^^^^^^^^^^^^^^^^^^^\n\n"
      ], 
      "cell_type": "markdown", 
      "metadata": {}
    }, 
    {
      "execution_count": null, 
      "cell_type": "code", 
      "source": [
        "fig = plt.figure(figsize=(10, 10))\nfig.subplots_adjust(hspace=.3)\npop.plot_heat_map(all_psth, normalize='each')"
      ], 
      "outputs": [], 
      "metadata": {
        "collapsed": false
      }
    }, 
    {
      "source": [
        "1.3.5 Plot Heat Map. Normalize All Neurons and Sort in Specified Order.\n^^^^^^^^^^^^^^^^^^^\n\n"
      ], 
      "cell_type": "markdown", 
      "metadata": {}
    }, 
    {
      "execution_count": null, 
      "cell_type": "code", 
      "source": [
        "random_list = range(10)\nrandom.shuffle(random_list)\nprint(random_list)\nfig = plt.figure(figsize=(10, 10))\nfig.subplots_adjust(hspace=.3)\npop.plot_heat_map(all_psth, normalize='all', sortby=random_list)"
      ], 
      "outputs": [], 
      "metadata": {
        "collapsed": false
      }
    }, 
    {
      "source": [
        "1.3.5. Plot Population PSTH\n^^^^^^^^^^^^^^^^^^^\n\n"
      ], 
      "cell_type": "markdown", 
      "metadata": {}
    }, 
    {
      "execution_count": null, 
      "cell_type": "code", 
      "source": [
        "plt.figure(figsize=(10, 5))\npop.plot_population_psth(all_psth=all_psth)"
      ], 
      "outputs": [], 
      "metadata": {
        "collapsed": false
      }
    }
  ], 
  "metadata": {
    "kernelspec": {
      "display_name": "Python 2", 
      "name": "python2", 
      "language": "python"
    }, 
    "language_info": {
      "mimetype": "text/x-python", 
      "nbconvert_exporter": "python", 
      "name": "python", 
      "file_extension": ".py", 
      "version": "2.7.10", 
      "pygments_lexer": "ipython2", 
      "codemirror_mode": {
        "version": 2, 
        "name": "ipython"
      }
    }
  }
}