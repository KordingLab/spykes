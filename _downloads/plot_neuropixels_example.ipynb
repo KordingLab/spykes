{
  "nbformat_minor": 0, 
  "nbformat": 4, 
  "cells": [
    {
      "execution_count": null, 
      "cell_type": "code", 
      "source": [
        "%matplotlib inline"
      ], 
      "outputs": [], 
      "metadata": {
        "collapsed": false
      }
    }, 
    {
      "source": [
        "\n# Neuropixels Example\n\n\nUse spykes to analyze data from UCL's Neuropixels\n\n\n"
      ], 
      "cell_type": "markdown", 
      "metadata": {}
    }, 
    {
      "execution_count": null, 
      "cell_type": "code", 
      "source": [
        "# Authors: Mayank Agrawal <mayankagrawal96@gmail.com>\n#\n# License: MIT"
      ], 
      "outputs": [], 
      "metadata": {
        "collapsed": false
      }
    }, 
    {
      "execution_count": null, 
      "cell_type": "code", 
      "source": [
        "import numpy as np\nimport pandas as pd\nfrom spykes.plot.neurovis import NeuroVis\nfrom spykes.plot.popvis import PopVis\nimport matplotlib.pyplot as plt\nfrom spykes.io.datasets import load_neuropixels_data\n\n\nplt.style.use('seaborn-ticks')"
      ], 
      "outputs": [], 
      "metadata": {
        "collapsed": false
      }
    }, 
    {
      "source": [
        "Neuropixels\n-----------------------------\nNeuropixels is a new recording technique by UCL's `Cortex Lab\n<http://www.ucl.ac.uk/neuropixels>`__ that is able to measure data from\nhundreds of neurons. Below we show how this data can be worked with in Spykes\n\n0 Download Data\n-----------------------------\n\nDownload all data `here <http://data.cortexlab.net/dualPhase3/data/>`__.\n\n1 Read In Data\n-----------------------------\n\n"
      ], 
      "cell_type": "markdown", 
      "metadata": {}
    }, 
    {
      "execution_count": null, 
      "cell_type": "code", 
      "source": [
        "folder_names = ['posterior', 'frontal']\nFs = 30000.0\n\nstriatum = list()\nmotor_ctx = list()\nthalamus = list()\nhippocampus = list()\nvisual_ctx = list()\n\n# a lot of this code is adapted from Cortex Lab's MATLAB script\n# see here: http://data.cortexlab.net/dualPhase3/data/script_dualPhase3.m\n\ndata_dict = load_neuropixels_data()\n\nfor name in folder_names:\n\n    clusters = np.squeeze(data_dict[name + '/spike_clusters.npy'])\n    spike_times = (np.squeeze(data_dict[(name + '/spike_times.npy')])) / Fs\n    spike_templates = (np.squeeze(data_dict[(name + '/spike_templates.npy')]))\n    temps = (np.squeeze(data_dict[(name + '/templates.npy')]))\n    winv = (np.squeeze(data_dict[(name + '/whitening_mat_inv.npy')]))\n    y_coords = (np.squeeze(data_dict[(name + '/channel_positions.npy')]))[:, 1]\n\n    # frontal times need to align with posterior\n    if (name == 'frontal'):\n        time_correction = data_dict[('timeCorrection.npy')]\n        spike_times *= time_correction[0]\n        spike_times += time_correction[1]\n\n    data = data_dict[(name + '/cluster_groups.csv')]\n    cids = np.array([x[0] for x in data])\n    cfg = np.array([x[1] for x in data])\n\n    # find good clusters and only use those spikes\n    good_clusters = cids[cfg == 'good']\n    good_indices = (np.in1d(clusters, good_clusters))\n\n    real_spikes = spike_times[good_indices]\n    real_clusters = clusters[good_indices]\n    real_spike_templates = spike_templates[good_indices]\n\n    # find how many spikes per cluster and then order spikes by which cluster\n    # they are in\n\n    counts_per_cluster = np.bincount(real_clusters)\n\n    sort_idx = np.argsort(real_clusters)\n    sorted_clusters = real_clusters[sort_idx]\n    sorted_spikes = real_spikes[sort_idx]\n    sorted_spike_templates = real_spike_templates[sort_idx]\n\n    # find depth for each spike\n    # this is translated from Cortex Lab's MATLAB code\n    # for more details, check out the original code here:\n    # https://github.com/cortex-lab/spikes/blob/master/analysis/templatePositionsAmplitudes.m\n\n    temps_unw = np.zeros(temps.shape)\n    for t in range(temps.shape[0]):\n        temps_unw[t, :, :] = np.dot(temps[t, :, :], winv)\n\n    temp_chan_amps = np.ptp(temps_unw, axis=1)\n    temps_amps = np.max(temp_chan_amps, axis=1)\n    thresh_vals = temps_amps * 0.3\n\n    thresh_vals = [thresh_vals for i in range(temp_chan_amps.shape[1])]\n    thresh_vals = np.stack(thresh_vals, axis=1)\n\n    temp_chan_amps[temp_chan_amps < thresh_vals] = 0\n\n    y_coords = np.reshape(y_coords, (y_coords.shape[0], 1))\n    temp_depths = np.sum(\n        np.dot(temp_chan_amps, y_coords), axis=1) / (np.sum(temp_chan_amps,\n                                                     axis=1))\n\n    sorted_spike_depths = temp_depths[sorted_spike_templates]\n\n    # create neurons and find region\n\n    accumulator = 0\n\n    for idx, count in enumerate(counts_per_cluster):\n\n        if count > 0:\n\n            spike_times = sorted_spikes[accumulator:accumulator + count]\n            neuron = NeuroVis(spiketimes=spike_times, name='%d' % (idx))\n            cluster_depth = np.mean(\n                sorted_spike_depths[accumulator:accumulator + count])\n\n            if name == 'frontal':\n\n                if (cluster_depth > 0 and cluster_depth < 1550):\n                    striatum.append(neuron)\n                elif (cluster_depth > 1550 and cluster_depth < 3840):\n                    motor_ctx.append(neuron)\n\n            elif name == 'posterior':\n\n                if (cluster_depth > 0 and cluster_depth < 1634):\n                    thalamus.append(neuron)\n                elif (cluster_depth > 1634 and cluster_depth < 2797):\n                    hippocampus.append(neuron)\n                elif (cluster_depth > 2797 and cluster_depth < 3840):\n                    visual_ctx.append(neuron)\n\n            accumulator += count\n\n\nprint(\"Striatum (n = %d)\" % len(striatum))\nprint(\"Motor Cortex (n = %d)\" % len(motor_ctx))\nprint(\"Thalamus (n = %d)\" % len(thalamus))\nprint(\"Hippocampus (n = %d)\" % len(hippocampus))\nprint(\"Visual Cortex (n = %d)\" % len(visual_ctx))"
      ], 
      "outputs": [], 
      "metadata": {
        "collapsed": false
      }
    }, 
    {
      "source": [
        "2 Create Data Frame\n-----------------------------\n\n"
      ], 
      "cell_type": "markdown", 
      "metadata": {}
    }, 
    {
      "execution_count": null, 
      "cell_type": "code", 
      "source": [
        "df = pd.DataFrame()\n\nraw_data = data_dict['experiment1stimInfo.mat']\n\ndf['start'] = np.squeeze(raw_data['stimStarts'])\ndf['stop'] = np.squeeze(raw_data['stimStops'])\ndf['stimulus'] = np.squeeze(raw_data['stimIDs'])\n\nprint(df.head())"
      ], 
      "outputs": [], 
      "metadata": {
        "collapsed": false
      }
    }, 
    {
      "source": [
        "3 Start Plotting\n-----------------------------\n3.1 Striatum\n~~~~~~~~~~~~\n\n"
      ], 
      "cell_type": "markdown", 
      "metadata": {}
    }, 
    {
      "execution_count": null, 
      "cell_type": "code", 
      "source": [
        "pop = PopVis(striatum, name='Striatum')\n\nfig = plt.figure(figsize=(30, 20))\n\nall_psth = pop.get_all_psth(\n    event='start', df=df, conditions='stimulus', plot=False, binsize=100,\n    window=[-500, 2000])\n\npop.plot_heat_map(all_psth, cond_id=[\n                  2, 7, 13], sortorder='descend', neuron_names=False)"
      ], 
      "outputs": [], 
      "metadata": {
        "collapsed": false
      }
    }, 
    {
      "execution_count": null, 
      "cell_type": "code", 
      "source": [
        "pop.plot_population_psth(all_psth=all_psth, cond_id=[1, 7, 12])"
      ], 
      "outputs": [], 
      "metadata": {
        "collapsed": false
      }
    }, 
    {
      "source": [
        "3.2 Frontal\n~~~~~~~~~~~~\n\n"
      ], 
      "cell_type": "markdown", 
      "metadata": {}
    }, 
    {
      "execution_count": null, 
      "cell_type": "code", 
      "source": [
        "pop = PopVis(striatum + motor_ctx, name='Frontal')\n\nfig = plt.figure(figsize=(30, 20))\n\nall_psth = pop.get_all_psth(\n    event='start', df=df, conditions='stimulus', plot=False, binsize=100,\n    window=[-500, 2000])\n\npop.plot_heat_map(\n    all_psth, cond_id=[2, 7, 13], sortorder='descend', neuron_names=False)"
      ], 
      "outputs": [], 
      "metadata": {
        "collapsed": false
      }
    }, 
    {
      "execution_count": null, 
      "cell_type": "code", 
      "source": [
        "pop.plot_population_psth(all_psth=all_psth, cond_id=[1, 7, 12])"
      ], 
      "outputs": [], 
      "metadata": {
        "collapsed": false
      }
    }, 
    {
      "source": [
        "3.3 All Neurons\n~~~~~~~~~~~~\n\n"
      ], 
      "cell_type": "markdown", 
      "metadata": {}
    }, 
    {
      "execution_count": null, 
      "cell_type": "code", 
      "source": [
        "pop = PopVis(striatum + motor_ctx + thalamus + hippocampus + visual_ctx)\n\nfig = plt.figure(figsize=(30, 20))\n\nall_psth = pop.get_all_psth(\n    event='start', df=df, conditions='stimulus', plot=False, binsize=100,\n    window=[-500, 2000])\n\npop.plot_heat_map(\n    all_psth, cond_id=[2, 7, 13], sortorder='descend', neuron_names=False)"
      ], 
      "outputs": [], 
      "metadata": {
        "collapsed": false
      }
    }, 
    {
      "execution_count": null, 
      "cell_type": "code", 
      "source": [
        "pop.plot_population_psth(all_psth=all_psth, cond_id=[1, 7, 12])"
      ], 
      "outputs": [], 
      "metadata": {
        "collapsed": false
      }
    }, 
    {
      "source": [
        "3.4 Striatum vs. Motor Cortex\n~~~~~~~~~~~~\n\n"
      ], 
      "cell_type": "markdown", 
      "metadata": {}
    }, 
    {
      "execution_count": null, 
      "cell_type": "code", 
      "source": [
        "striatum_pop = PopVis(striatum, name='Striatum')\nmotor_ctx_pop = PopVis(motor_ctx, name='Motor Cortex')\n\nstriatum_psth = striatum_pop.get_all_psth(\n    event='start', df=df, conditions='stimulus', plot=False, binsize=100,\n    window=[-500, 2000])\nmotor_ctx_psth = motor_ctx_pop.get_all_psth(\n    event='start', df=df, conditions='stimulus', plot=False, binsize=100,\n    window=[-500, 2000])"
      ], 
      "outputs": [], 
      "metadata": {
        "collapsed": false
      }
    }, 
    {
      "execution_count": null, 
      "cell_type": "code", 
      "source": [
        "striatum_pop.plot_population_psth(all_psth=striatum_psth, cond_id=[1, 7, 12])"
      ], 
      "outputs": [], 
      "metadata": {
        "collapsed": false
      }
    }, 
    {
      "execution_count": null, 
      "cell_type": "code", 
      "source": [
        "motor_ctx_pop.plot_population_psth(all_psth=motor_ctx_psth, cond_id=[1, 7, 12])"
      ], 
      "outputs": [], 
      "metadata": {
        "collapsed": false
      }
    }
  ], 
  "metadata": {
    "kernelspec": {
      "display_name": "Python 2", 
      "name": "python2", 
      "language": "python"
    }, 
    "language_info": {
      "mimetype": "text/x-python", 
      "nbconvert_exporter": "python", 
      "name": "python", 
      "file_extension": ".py", 
      "version": "2.7.10", 
      "pygments_lexer": "ipython2", 
      "codemirror_mode": {
        "version": 2, 
        "name": "ipython"
      }
    }
  }
}