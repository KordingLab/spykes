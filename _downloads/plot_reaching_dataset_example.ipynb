{
  "nbformat_minor": 0, 
  "nbformat": 4, 
  "cells": [
    {
      "execution_count": null, 
      "cell_type": "code", 
      "source": [
        "%matplotlib inline"
      ], 
      "outputs": [], 
      "metadata": {
        "collapsed": false
      }
    }, 
    {
      "source": [
        "\n# Reaching Dataset Example\n\n\nA demonstration of Spykes' functionality using the reaching dataset.\n\n\n"
      ], 
      "cell_type": "markdown", 
      "metadata": {}
    }, 
    {
      "execution_count": null, 
      "cell_type": "code", 
      "source": [
        "import numpy as np\nimport pandas as pd\nfrom spykes.plot.neurovis import NeuroVis\nfrom spykes.ml.neuropop import NeuroPop\nfrom spykes.io.datasets import load_reaching_data\nfrom spykes.utils import train_test_split\nimport matplotlib.pyplot as plt"
      ], 
      "outputs": [], 
      "metadata": {
        "collapsed": false
      }
    }, 
    {
      "source": [
        "Initialization\n-----------------------------\n\nDownload Reaching Dataset\n~~~~~~~~~~~~~\n\n[`download link\n<https://northwestern.app.box.com/s/xbe3xpnv6gpx0c1mrfhb1bal4cyei5n8>`__]\n\nLoad Data\n\n"
      ], 
      "cell_type": "markdown", 
      "metadata": {}
    }, 
    {
      "execution_count": null, 
      "cell_type": "code", 
      "source": [
        "reach_data = load_reaching_data()\n\nprint('dataset keys:', reach_data.keys())\nprint('events:', reach_data['events'].keys())\nprint('features', reach_data['features'].keys())\nprint('number of PMd neurons:', len(reach_data['neurons_PMd']))\nprint('number of M1 neurons:', len(reach_data['neurons_M1']))"
      ], 
      "outputs": [], 
      "metadata": {
        "collapsed": false
      }
    }, 
    {
      "source": [
        "Part I: NeuroVis\n-----------------------------\n\n\nInstantiate Example PMd Neuron\n~~~~~~~~~~~~~\n\n"
      ], 
      "cell_type": "markdown", 
      "metadata": {}
    }, 
    {
      "execution_count": null, 
      "cell_type": "code", 
      "source": [
        "neuron_number = 91\nspike_times = reach_data['neurons_PMd'][neuron_number - 1]\nneuron_PMd = NeuroVis(spike_times, name='PMd %d' % neuron_number)"
      ], 
      "outputs": [], 
      "metadata": {
        "collapsed": false
      }
    }, 
    {
      "source": [
        "Raster plot and PSTH aligned to target onset\n~~~~~~~~~~~~~\n\n"
      ], 
      "cell_type": "markdown", 
      "metadata": {}
    }, 
    {
      "execution_count": null, 
      "cell_type": "code", 
      "source": [
        "neuron_PMd.get_raster(event='targetOnTime', df=reach_data['events'])"
      ], 
      "outputs": [], 
      "metadata": {
        "collapsed": false
      }
    }, 
    {
      "execution_count": null, 
      "cell_type": "code", 
      "source": [
        "neuron_PMd.get_psth(event='targetOnTime', df=reach_data['events'])"
      ], 
      "outputs": [], 
      "metadata": {
        "collapsed": false
      }
    }, 
    {
      "source": [
        "Let's put the data into a DataFrame\n\nEvents\n~~~~~~~~~~~~~\n\n"
      ], 
      "cell_type": "markdown", 
      "metadata": {}
    }, 
    {
      "execution_count": null, 
      "cell_type": "code", 
      "source": [
        "data_df = pd.DataFrame()\nevents = ['targetOnTime', 'goCueTime', 'rewardTime']\n\nfor i in events:\n    data_df[i] = np.squeeze(reach_data['events'][i])\n\n\ndata_df[events].head()"
      ], 
      "outputs": [], 
      "metadata": {
        "collapsed": false
      }
    }, 
    {
      "source": [
        "Features\n~~~~~~~~~~~~~\n\n"
      ], 
      "cell_type": "markdown", 
      "metadata": {}
    }, 
    {
      "execution_count": null, 
      "cell_type": "code", 
      "source": [
        "data_df['endpointOfReach'] = np.squeeze(\n    reach_data['features']['endpointOfReach'])\ndata_df['reward_code'] = reach_data['features']['reward']\n\nfeatures = ['endpointOfReach', 'reward_code']\ndata_df[features].head()"
      ], 
      "outputs": [], 
      "metadata": {
        "collapsed": false
      }
    }, 
    {
      "source": [
        "Let's visualize PSTHs separated by conditions\n\nExample 1: Reward vs No Reward\n~~~~~~~~~~~~~\n\n"
      ], 
      "cell_type": "markdown", 
      "metadata": {}
    }, 
    {
      "execution_count": null, 
      "cell_type": "code", 
      "source": [
        "# We could use 'reward_code' but let's create a boolean feature for reward\ndata_df['reward'] = data_df['reward_code'].map(\n    lambda s: {32: True, 34: False, '': np.nan}[s])\ndata_df.head()"
      ], 
      "outputs": [], 
      "metadata": {
        "collapsed": false
      }
    }, 
    {
      "source": [
        "Plot PSTH\n\n"
      ], 
      "cell_type": "markdown", 
      "metadata": {}
    }, 
    {
      "execution_count": null, 
      "cell_type": "code", 
      "source": [
        "psth = neuron_PMd.get_psth(event='rewardTime',\n                           conditions='reward',\n                           df=data_df)"
      ], 
      "outputs": [], 
      "metadata": {
        "collapsed": false
      }
    }, 
    {
      "source": [
        "Make it look nicer\n\n"
      ], 
      "cell_type": "markdown", 
      "metadata": {}
    }, 
    {
      "execution_count": null, 
      "cell_type": "code", 
      "source": [
        "plt.figure(figsize=(10, 5))\npsth = neuron_PMd.get_psth(event='rewardTime',\n                           conditions='reward',\n                           df=data_df,\n                           window=[-200, 600],\n                           binsize=20,\n                           event_name='Reward Time')\n\nplt.title('neuron %s: Reward' % neuron_PMd.name)\nplt.show()"
      ], 
      "outputs": [], 
      "metadata": {
        "collapsed": false
      }
    }, 
    {
      "source": [
        "Example 2: according to quadrant of reaching direction\n~~~~~~~~~~~~~\n\n"
      ], 
      "cell_type": "markdown", 
      "metadata": {}
    }, 
    {
      "execution_count": null, 
      "cell_type": "code", 
      "source": [
        "data_df['endpointOfReach_quad'] = pd.cut(\n    data_df['endpointOfReach'], np.linspace(0, 360, 5))\ndata_df[['endpointOfReach', 'endpointOfReach_quad']].head()"
      ], 
      "outputs": [], 
      "metadata": {
        "collapsed": false
      }
    }, 
    {
      "execution_count": null, 
      "cell_type": "code", 
      "source": [
        "plt.figure(figsize=(10, 5))\npsth_PMd = neuron_PMd.get_psth(event='targetOnTime',\n                               conditions='endpointOfReach_quad',\n                               df=data_df,\n                               window=[-200, 1000],\n                               binsize=20,\n                               event_name='target onset')\n\nplt.title('%s: Reach angle quadrant' % neuron_PMd.name)\nplt.show()"
      ], 
      "outputs": [], 
      "metadata": {
        "collapsed": false
      }
    }, 
    {
      "source": [
        "Raster plots for the same neuron and conditions\n\n"
      ], 
      "cell_type": "markdown", 
      "metadata": {}
    }, 
    {
      "execution_count": null, 
      "cell_type": "code", 
      "source": [
        "# get rasters\nrasters_PMd = neuron_PMd.get_raster(event='targetOnTime',\n                                    conditions='endpointOfReach_quad',\n                                    df=data_df,\n                                    window=[-200, 1000],\n                                    binsize=20,\n                                    plot=False)\n\n\n# plot rasters\nplt.figure(figsize=(15, 6))\nplot_order = np.array([2, 3, 4, 1])\ncmap = ['Oranges', 'Blues', 'Reds', 'Greens']\nfor i, cond_id in enumerate(np.sort(rasters_PMd['data'].keys())):\n    plt.subplot(2, 2, plot_order[i])\n    neuron_PMd.plot_raster(rasters_PMd,\n                           cond_id=cond_id,\n                           cmap=cmap[i],\n                           cond_name='reach angle: %s' % cond_id,\n                           sortby='rate', sortorder='ascend')\n    if plot_order[i] < 3:\n        plt.xlabel('')"
      ], 
      "outputs": [], 
      "metadata": {
        "collapsed": false
      }
    }, 
    {
      "source": [
        "Example 3: Same as Example 2 but for an M1 neuron and aligned at goCueTime\n~~~~~~~~~~~~~\n\n"
      ], 
      "cell_type": "markdown", 
      "metadata": {}
    }, 
    {
      "execution_count": null, 
      "cell_type": "code", 
      "source": [
        "neuron_number = 100\nspike_times = reach_data['neurons_M1'][neuron_number - 1]\nneuron_M1 = NeuroVis(spike_times, name='M1 %d' % neuron_number)"
      ], 
      "outputs": [], 
      "metadata": {
        "collapsed": false
      }
    }, 
    {
      "execution_count": null, 
      "cell_type": "code", 
      "source": [
        "plt.figure(figsize=(10, 5))\npsth_M1 = neuron_M1.get_psth(event='goCueTime',\n                             df=data_df,\n                             conditions='endpointOfReach_quad',\n                             window=[-1000, 2000],\n                             binsize=40,\n                             plot=True,\n                             ylim=[0, 70],\n                             event_name='Go Cue')\nplt.show()"
      ], 
      "outputs": [], 
      "metadata": {
        "collapsed": false
      }
    }, 
    {
      "source": [
        "Example 4: sorted by direction only for the trials with reward\n~~~~~~~~~~~~~\n\n"
      ], 
      "cell_type": "markdown", 
      "metadata": {}
    }, 
    {
      "execution_count": null, 
      "cell_type": "code", 
      "source": [
        "# use standard pandas filtering to isolate trials of interest\ntrials_df = data_df[data_df['reward'] == True]\ntrials_df.head()"
      ], 
      "outputs": [], 
      "metadata": {
        "collapsed": false
      }
    }, 
    {
      "execution_count": null, 
      "cell_type": "code", 
      "source": [
        "plt.figure(figsize=(10, 5))\npsth_M1 = neuron_M1.get_psth(event='rewardTime',\n                             conditions='endpointOfReach_quad',\n                             df=trials_df,\n                             window=[-1000, 2000],\n                             binsize=40,\n                             ylim=[0, 70],\n                             event_name='Reward Time'\n                             )\nplt.show()"
      ], 
      "outputs": [], 
      "metadata": {
        "collapsed": false
      }
    }, 
    {
      "source": [
        "One last thing before moving on to `spykes.neuropop`\nWe can use `get_spikecounts()` to count the number of spikes within a\ncertain time window relative to event onset\n\n"
      ], 
      "cell_type": "markdown", 
      "metadata": {}
    }, 
    {
      "execution_count": null, 
      "cell_type": "code", 
      "source": [
        "spike_counts = neuron_PMd.get_spikecounts(\n    'targetOnTime', df=data_df, window=[0, 1200])"
      ], 
      "outputs": [], 
      "metadata": {
        "collapsed": false
      }
    }, 
    {
      "execution_count": null, 
      "cell_type": "code", 
      "source": [
        "conditions_names = np.unique(data_df['endpointOfReach_quad'])\nconditions_names = conditions_names[[0, 3, 1, 2]]\nconditions_names"
      ], 
      "outputs": [], 
      "metadata": {
        "collapsed": false
      }
    }, 
    {
      "source": [
        "Let's visualize the spike counts per trial for each condition\n\n"
      ], 
      "cell_type": "markdown", 
      "metadata": {}
    }, 
    {
      "execution_count": null, 
      "cell_type": "code", 
      "source": [
        "colors = ['#F5A21E', '#134B64', '#EF3E34', '#02A68E']\n\nplt.figure(figsize=(10, 5))\nfor i, cond in enumerate(conditions_names):\n    idx = np.where(data_df['endpointOfReach_quad'] == cond)[0]\n    x_noise = 0.08 * np.random.randn(np.size(idx))\n    plt.plot(i + x_noise + 1, spike_counts[idx], '.', color=colors[i],\n             alpha=0.3, markersize=20)\n\nplt.xlabel('condition')\nplt.ylabel('number of spikes')\nplt.xlim([0, 5])\nplt.xticks(np.arange(np.size(conditions_names)) + 1)\nax = plt.gca()\nax.spines['top'].set_visible(False)\nax.spines['right'].set_visible(False)\nplt.tick_params(axis='y', right='off')\nplt.tick_params(axis='x', top='off')\nplt.legend(conditions_names, frameon=False)\nplt.show()"
      ], 
      "outputs": [], 
      "metadata": {
        "collapsed": false
      }
    }, 
    {
      "source": [
        "Part II: NeuroPop\n-----------------------------\n\nOrganize data as preferred features and spike counts (x  Y)\n\nExtract reach direction x\n~~~~~~~~~~~~~\n\n"
      ], 
      "cell_type": "markdown", 
      "metadata": {}
    }, 
    {
      "execution_count": null, 
      "cell_type": "code", 
      "source": [
        "# Get reach direction, ensure it is between [-pi, pi]\nx = np.arctan2(np.sin(reach_data['features']['endpointOfReach'] *\n               np.pi / 180.0),\n               np.cos(reach_data['features']['endpointOfReach'] *\n               np.pi / 180.0))"
      ], 
      "outputs": [], 
      "metadata": {
        "collapsed": false
      }
    }, 
    {
      "source": [
        "Extract M1 spike counts Y\n~~~~~~~~~~~~~\n- Select only neurons above a threshold firing rate\n- Align spike counts to the GO cue\n- Use the convenience function ```get_spikecounts()``` from ```NeuroVis```\n\n"
      ], 
      "cell_type": "markdown", 
      "metadata": {}
    }, 
    {
      "execution_count": null, 
      "cell_type": "code", 
      "source": [
        "# Select only high firing rate neurons\nM1_select = list()\nthreshold = 10.0\n\n# Specify timestamps of events to which trials are aligned\nalign = 'goCueTime'\n\n# Specify a window of around the go cue for spike counts\nwindow = [0., 500.]  # milliseconds\n\n# Get spike counts\nY = np.zeros([x.shape[0], len(reach_data['neurons_M1'])])\n\nfor n in range(len(reach_data['neurons_M1'])):\n    this_neuron = NeuroVis(spiketimes=reach_data['neurons_M1'][n])\n    Y[:, n] = np.squeeze(\n        this_neuron.get_spikecounts(event=align, df=data_df, window=window))\n\n    # Short list a few high-firing neurons\n    if this_neuron.firingrate > threshold:\n        M1_select.append(n)\n\n# Rescale spike counts to units of spikes/s\nY = Y / float(window[1] - window[0]) * 1e3\n\n# How many neurons shortlisted?\nprint('%d M1 neurons had firing rates over %4.1f spks/s' %\n      (len(M1_select), threshold))"
      ], 
      "outputs": [], 
      "metadata": {
        "collapsed": false
      }
    }, 
    {
      "source": [
        "Split into train and test sets\n~~~~~~~~~~~~~\n\n"
      ], 
      "cell_type": "markdown", 
      "metadata": {}
    }, 
    {
      "execution_count": null, 
      "cell_type": "code", 
      "source": [
        "np.random.seed(42)\n(Y_train, Y_test), (x_train, x_test) = train_test_split(Y, x, percent=0.33)"
      ], 
      "outputs": [], 
      "metadata": {
        "collapsed": false
      }
    }, 
    {
      "source": [
        "Create an instance of NeuroPop\n~~~~~~~~~~~~~\n\n"
      ], 
      "cell_type": "markdown", 
      "metadata": {}
    }, 
    {
      "execution_count": null, 
      "cell_type": "code", 
      "source": [
        "pop = NeuroPop(n_neurons=len(M1_select),\n               tunemodel='gvm',\n               n_repeats=3,\n               verbose=False)\n\n# Let's fit tuning curves to the population\n# ~~~~~~~~~~~~~\n\npop.fit(np.squeeze(x_train), Y_train[:, M1_select])"
      ], 
      "outputs": [], 
      "metadata": {
        "collapsed": false
      }
    }, 
    {
      "source": [
        "Predict firing rates\n~~~~~~~~~~~~~\n\n"
      ], 
      "cell_type": "markdown", 
      "metadata": {}
    }, 
    {
      "execution_count": null, 
      "cell_type": "code", 
      "source": [
        "Yhat_test = pop.predict(np.squeeze(x_test))"
      ], 
      "outputs": [], 
      "metadata": {
        "collapsed": false
      }
    }, 
    {
      "source": [
        "Score the prediction\n~~~~~~~~~~~~~\n\n"
      ], 
      "cell_type": "markdown", 
      "metadata": {}
    }, 
    {
      "execution_count": null, 
      "cell_type": "code", 
      "source": [
        "# calculate and plot the pseudo R2\nYnull = np.mean(Y_train[:, M1_select], axis=0)\npseudo_R2 = pop.score(\n    Y_test[:, M1_select], Yhat_test, Ynull, method='pseudo_R2')\n\nplt.figure(figsize=(10, 5))\nplt.plot(pseudo_R2, 'co', markeredgecolor='c', alpha=0.5, markersize=8)\nplt.xlim([-5, len(M1_select) + 5])\nplt.ylim([-0.1, 1])\nplt.xlabel('neurons')\nplt.ylabel('pseudo-$R^2$ (test)')\nax = plt.gca()\nax.spines['top'].set_visible(False)\nax.spines['right'].set_visible(False)\nplt.tick_params(axis='y', right='off')\nplt.tick_params(axis='x', top='off')"
      ], 
      "outputs": [], 
      "metadata": {
        "collapsed": false
      }
    }, 
    {
      "source": [
        "Visualize tuning curves\n~~~~~~~~~~~~~\n\n"
      ], 
      "cell_type": "markdown", 
      "metadata": {}
    }, 
    {
      "execution_count": null, 
      "cell_type": "code", 
      "source": [
        "plt.figure(figsize=[15, 70])\n\nfor neuron in range(len(M1_select)):\n    plt.subplot(27, 4, neuron + 1)\n    pop.display(x_test, Y_test[:, M1_select[neuron]], neuron=neuron,\n                ylim=[0.8 * np.min(Y_test[:, M1_select[neuron]]),\n                1.2 * np.max(Y_test[:, M1_select[neuron]])])\n    # plt.axis('off')\n\nplt.show()"
      ], 
      "outputs": [], 
      "metadata": {
        "collapsed": false
      }
    }, 
    {
      "source": [
        "Decode reach direction from population vector\n~~~~~~~~~~~~~\n\n"
      ], 
      "cell_type": "markdown", 
      "metadata": {}
    }, 
    {
      "execution_count": null, 
      "cell_type": "code", 
      "source": [
        "xhat_test = pop.decode(Y_test[:, M1_select])"
      ], 
      "outputs": [], 
      "metadata": {
        "collapsed": false
      }
    }, 
    {
      "source": [
        "Visualize decoded reach direction\n~~~~~~~~~~~~~\n\n"
      ], 
      "cell_type": "markdown", 
      "metadata": {}
    }, 
    {
      "execution_count": null, 
      "cell_type": "code", 
      "source": [
        "plt.figure(figsize=[6, 5])\n\nplt.plot(x_test, xhat_test, 'k.', alpha=0.5)\nplt.xlim([-1.2 * np.pi, 1.2 * np.pi])\nplt.ylim([-1.2 * np.pi, 1.2 * np.pi])\nplt.xlabel('Ground truth [radians]')\nplt.ylabel('Decoded [radians]')\nplt.tick_params(axis='y', right='off')\nplt.tick_params(axis='x', top='off')\nax = plt.gca()\nax.spines['top'].set_visible(False)\nax.spines['right'].set_visible(False)\n\nplt.figure(figsize=[15, 5])\njitter = 0.2 * np.random.rand(x_test.shape[0])\nplt.subplot(121, polar=True)\nplt.plot(x_test, np.ones(x_test.shape[0]) + jitter, 'ko', alpha=0.5)\nplt.title('Ground truth')\n\nplt.subplot(122, polar=True)\nplt.plot(xhat_test, np.ones(xhat_test.shape[0]) + jitter, 'co', alpha=0.5)\nplt.title('Decoded')\nplt.show()"
      ], 
      "outputs": [], 
      "metadata": {
        "collapsed": false
      }
    }, 
    {
      "source": [
        "Score decoding performance\n~~~~~~~~~~~~~\n\n"
      ], 
      "cell_type": "markdown", 
      "metadata": {}
    }, 
    {
      "execution_count": null, 
      "cell_type": "code", 
      "source": [
        "circ_corr = pop.score(x_test, xhat_test, method='circ_corr')\nprint('Circular Correlation: %f' % (circ_corr))\ncosine_dist = pop.score(x_test, xhat_test, method='cosine_dist')\nprint('Cosine Distance: %f' % (cosine_dist))"
      ], 
      "outputs": [], 
      "metadata": {
        "collapsed": false
      }
    }
  ], 
  "metadata": {
    "kernelspec": {
      "display_name": "Python 2", 
      "name": "python2", 
      "language": "python"
    }, 
    "language_info": {
      "mimetype": "text/x-python", 
      "nbconvert_exporter": "python", 
      "name": "python", 
      "file_extension": ".py", 
      "version": "2.7.10", 
      "pygments_lexer": "ipython2", 
      "codemirror_mode": {
        "version": 2, 
        "name": "ipython"
      }
    }
  }
}