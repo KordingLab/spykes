{
  "nbformat_minor": 0, 
  "nbformat": 4, 
  "cells": [
    {
      "execution_count": null, 
      "cell_type": "code", 
      "source": [
        "%matplotlib inline"
      ], 
      "outputs": [], 
      "metadata": {
        "collapsed": false
      }
    }, 
    {
      "source": [
        "\n# Neural Coding Reward Example\n\n\nA demonstration to use Spykes' functionality to reproduce Ramkumar et al's\n\"Premotor and Motor Cortices Encode Reward.\"\n\n\n"
      ], 
      "cell_type": "markdown", 
      "metadata": {}
    }, 
    {
      "execution_count": null, 
      "cell_type": "code", 
      "source": [
        "# Authors: Mayank Agrawal <mayankagrawal96@gmail.com>\n#\n# License: MIT"
      ], 
      "outputs": [], 
      "metadata": {
        "collapsed": false
      }
    }, 
    {
      "execution_count": null, 
      "cell_type": "code", 
      "source": [
        "import matplotlib.pyplot as plt\nimport numpy as np\nimport pandas as pd\nfrom spykes.plot.neurovis import NeuroVis\nfrom spykes.io.datasets import load_reward_data"
      ], 
      "outputs": [], 
      "metadata": {
        "collapsed": false
      }
    }, 
    {
      "source": [
        "0 Overview: Reproduce Figure\n-----------------------------\n\n0.1 Article\n~~~~~~~~~~~~~\n\nRamkumar, Pavan, et al. \"Premotor and Motor Cortices Encode Reward.\"\nPloS one 11.8 (2016)\n\n[`link to\npaper\n<http://journals.plos.org/plosone/article?id=10.1371/journal.pone.0160851>`__]\n\n\n0.2 Dataset\n~~~~~~~~~~~~~~~~~~~~~~~~~~~~~~~~~~~~~~~~~~~~~~\n\nDownload all files [`here\n<https://figshare.com/articles/Ramkumar_et_al_2016_Premotor_and_motor_cortices_encode_reward/3573447>`__]\nHowever, we'll only be looking at Mihili_07112013.mat (Monkey M, Session 1)\nand Mihili_08062013.mat (Monkey M, Session 4)\n\n0.3 Initialization\n~~~~~~~~~~~~~~~~~~~~~~~~~~~~~~~~~~~~~~~~~~~~~~\n\n\n"
      ], 
      "cell_type": "markdown", 
      "metadata": {}
    }, 
    {
      "execution_count": null, 
      "cell_type": "code", 
      "source": [
        "event = 'rewardTime'\ncondition = 'rewardBool'\nwindow = [-500, 1500]\nbinsize = 10"
      ], 
      "outputs": [], 
      "metadata": {
        "collapsed": false
      }
    }, 
    {
      "source": [
        "1 First Graph of Panel A\n--------------------\n\n"
      ], 
      "cell_type": "markdown", 
      "metadata": {}
    }, 
    {
      "execution_count": null, 
      "cell_type": "code", 
      "source": [
        "sess_one, sess_four = load_reward_data()"
      ], 
      "outputs": [], 
      "metadata": {
        "collapsed": false
      }
    }, 
    {
      "source": [
        "1.1 Initiate all Neurons\n~~~~~~~~~~~~~~~~~\n\n\n"
      ], 
      "cell_type": "markdown", 
      "metadata": {}
    }, 
    {
      "execution_count": null, 
      "cell_type": "code", 
      "source": [
        "def get_spike_time(raw_data, neuron_number):\n\n    spike_times = raw_data['alldays'][0]['PMd_units'][0][:]\n    spike_times = spike_times[neuron_number - 1][0][1:]\n    spike_times = [i[0] for i in spike_times]\n\n    return spike_times"
      ], 
      "outputs": [], 
      "metadata": {
        "collapsed": false
      }
    }, 
    {
      "execution_count": null, 
      "cell_type": "code", 
      "source": [
        "def initiate_neurons(raw_data):\n\n    neuron_list = list()\n\n    for i in range((raw_data['alldays'][0]['PMd_units'][0][:]).shape[0]):\n        spike_times = get_spike_time(raw_data, i + 1)\n\n        # instantiate neuron\n        neuron = NeuroVis(spike_times, name='PMd %d' % (i + 1))\n        neuron_list.append(neuron)\n\n    return neuron_list"
      ], 
      "outputs": [], 
      "metadata": {
        "collapsed": false
      }
    }, 
    {
      "execution_count": null, 
      "cell_type": "code", 
      "source": [
        "neuron_list = initiate_neurons(sess_four)"
      ], 
      "outputs": [], 
      "metadata": {
        "collapsed": false
      }
    }, 
    {
      "source": [
        "1.2 Get Event Times\n~~~~~~~~~~~~~\n\n"
      ], 
      "cell_type": "markdown", 
      "metadata": {}
    }, 
    {
      "execution_count": null, 
      "cell_type": "code", 
      "source": [
        "def create_data_frame(raw_data):\n\n    data_df = pd.DataFrame()\n\n    uncertainty_conditions = list()\n    center_target_times = list()\n    reward_times = list()\n    reward_outcomes = list()\n\n    for i in range(raw_data['alldays'].shape[0]):\n\n        meta_data = raw_data['alldays'][i]['tt'][0]\n\n        uncertainty_conditions.append(meta_data[:, 2])\n        center_target_times.append(meta_data[:, 3])\n        reward_times.append(meta_data[:, 6])\n        reward_outcomes.append(meta_data[:, 7])\n\n    data_df['uncertaintyCondition'] = np.concatenate(uncertainty_conditions)\n    data_df['centerTargetTime'] = np.concatenate(center_target_times)\n    data_df['rewardTime'] = np.concatenate(reward_times)\n    data_df['rewardOutcome'] = np.concatenate(reward_outcomes)\n\n    data_df['rewardBool'] = data_df['rewardOutcome'].map(lambda s: s == 32)\n\n    # find time in between previous reward onset and start of current trial\n    # shouldn't be more than 1500ms\n\n    start_times = data_df['centerTargetTime']\n    last_reward_times = np.roll(data_df['rewardTime'], 1)\n\n    diffs = start_times - last_reward_times\n    diffs[0] = 0\n\n    data_df['consecutiveBool'] = diffs.map(lambda s: s <= 1.5)\n\n    return data_df[((data_df['uncertaintyCondition'] == 5.0) |\n                    (data_df['uncertaintyCondition'] == 50.0)) &\n                   data_df['consecutiveBool']]"
      ], 
      "outputs": [], 
      "metadata": {
        "collapsed": false
      }
    }, 
    {
      "execution_count": null, 
      "cell_type": "code", 
      "source": [
        "data_df = create_data_frame(sess_four)\nprint(len(data_df))\ndata_df.head()"
      ], 
      "outputs": [], 
      "metadata": {
        "collapsed": false
      }
    }, 
    {
      "source": [
        "1.3 Match Peak Velocities\n~~~~~~~~~~~~~~~~~~~~~~~~~~\n\n"
      ], 
      "cell_type": "markdown", 
      "metadata": {}
    }, 
    {
      "execution_count": null, 
      "cell_type": "code", 
      "source": [
        "def find_velocities_in_range(raw_data, dataframe, min_vel, max_vel, min_time,\n                             max_time):\n\n    all_velocities = raw_data['alldays'][0]['kin'][0]['vel'][0][0]\n\n    max_velocities = np.empty(len(dataframe))\n    peak_times = np.empty(len(dataframe))\n\n    for i in range(len(dataframe)):\n\n        # find time range for potential peak velocity\n        start_time = dataframe['rewardTime'][i] + .2\n        end_time = dataframe['rewardTime'][i] + 1.5\n\n        # find velocities in the time range\n        indices = (all_velocities[:, 0] >= start_time) & (\n            all_velocities[:, 0] <= end_time)\n        in_time = all_velocities[indices]\n\n        # find max velocity in given time range\n        velocity_norms = np.square(in_time[:, 1]) + np.square(in_time[:, 2])\n\n        max_velocity_index = np.argmax(velocity_norms)\n\n        max_velocities[i] = velocity_norms[max_velocity_index]**.5\n        peak_times[i] = in_time[max_velocity_index, 0]\n\n    dataframe['maxVelocity'] = max_velocities\n    dataframe['peakTimesDiff'] = peak_times - dataframe['rewardTime']\n\n    return dataframe[((dataframe['maxVelocity'] >= min_vel) &\n                      (dataframe['maxVelocity'] <= max_vel)) &\n                     ((dataframe['peakTimesDiff'] >= min_time) &\n                      (dataframe['peakTimesDiff'] <= max_time))]"
      ], 
      "outputs": [], 
      "metadata": {
        "collapsed": false
      }
    }, 
    {
      "execution_count": null, 
      "cell_type": "code", 
      "source": [
        "trials_df = find_velocities_in_range(\n    sess_four, data_df.reset_index(), 11, 16, .55, .95)\nprint(len(trials_df))\ntrials_df.head()"
      ], 
      "outputs": [], 
      "metadata": {
        "collapsed": false
      }
    }, 
    {
      "source": [
        "1.4 Plot PSTHs\n~~~~~~~~~~~~~~~~~~~~~~~~~~\n\nBefore Matching\n\n"
      ], 
      "cell_type": "markdown", 
      "metadata": {}
    }, 
    {
      "execution_count": null, 
      "cell_type": "code", 
      "source": [
        "neuron_number = 60\nneuron = neuron_list[neuron_number - 1]\n\nplt.figure(figsize=(10, 5))\npsth = neuron.get_psth(event=event,\n                       conditions=condition,\n                       df=data_df,\n                       window=[-500, 1500],\n                       binsize=25,\n                       event_name='Reward Time')\n\nplt.title('neuron %s: Reward' % neuron.name)\nplt.show()"
      ], 
      "outputs": [], 
      "metadata": {
        "collapsed": false
      }
    }, 
    {
      "source": [
        "After Velocity Matching\n\n"
      ], 
      "cell_type": "markdown", 
      "metadata": {}
    }, 
    {
      "execution_count": null, 
      "cell_type": "code", 
      "source": [
        "neuron_number = 60\nneuron = neuron_list[neuron_number - 1]\n\nplt.figure(figsize=(10, 5))\npsth = neuron.get_psth(event=event,\n                       conditions=condition,\n                       df=trials_df,\n                       window=[-500, 1500],\n                       binsize=25,\n                       event_name='Reward Time')\n\nplt.title('neuron %s: Reward' % neuron.name)\nplt.show()"
      ], 
      "outputs": [], 
      "metadata": {
        "collapsed": false
      }
    }, 
    {
      "source": [
        "2 First Graph of Panel C\n--------------------\n\n"
      ], 
      "cell_type": "markdown", 
      "metadata": {}
    }, 
    {
      "execution_count": null, 
      "cell_type": "code", 
      "source": [
        "neuron_list = initiate_neurons(sess_one)\ndata_df = create_data_frame(sess_one)"
      ], 
      "outputs": [], 
      "metadata": {
        "collapsed": false
      }
    }, 
    {
      "source": [
        "2.1 Normalize PSTHs\n~~~~~~~~~~~~~~~~~~~~~~~~~~\n\n"
      ], 
      "cell_type": "markdown", 
      "metadata": {}
    }, 
    {
      "execution_count": null, 
      "cell_type": "code", 
      "source": [
        "def normalize_psth(neuron, dataframe):\n\n    psth = neuron.get_psth(event=event,\n                           conditions=condition,\n                           df=dataframe,\n                           window=window,\n                           binsize=binsize,\n                           plot=False)\n\n    # find all max rates, and find max of max rates\n\n    max_rates = list()\n\n    for i, cond_id in enumerate(np.sort(psth['data'].keys())):\n        max_rates.append(np.amax(psth['data'][cond_id]['mean']))\n\n    max_rate = max(max_rates)\n\n    # divide all means by max to normalize\n\n    for i, cond_id in enumerate(np.sort(psth['data'].keys())):\n\n        psth['data'][cond_id]['mean'] /= max_rate\n        psth['data'][cond_id]['sem'] = 0  # population SEM calculated later\n\n    return psth"
      ], 
      "outputs": [], 
      "metadata": {
        "collapsed": false
      }
    }, 
    {
      "execution_count": null, 
      "cell_type": "code", 
      "source": [
        "neuron = neuron_list[0]  # example\nnew_psth = normalize_psth(neuron, data_df)\nneuron.plot_psth(new_psth, event, condition)"
      ], 
      "outputs": [], 
      "metadata": {
        "collapsed": false
      }
    }, 
    {
      "source": [
        "2.2 Find Population Average\n~~~~~~~~~~~~~~~~~~~~~~~~~~~~\n\n"
      ], 
      "cell_type": "markdown", 
      "metadata": {}
    }, 
    {
      "execution_count": null, 
      "cell_type": "code", 
      "source": [
        "psth_dict = {}\nfor cond_id in np.sort(psth['data'].keys()):\n    psth_dict[cond_id] = list()\n\n\n# add all normalized psth's\nfor neuron in neuron_list:\n\n    norm_psth = normalize_psth(neuron, data_df)\n\n    for cond_id in np.sort(psth['data'].keys()):\n        psth_dict[cond_id].append(norm_psth['data'][cond_id]['mean'])\n\nfor key in psth_dict:\n    psth_dict[key] = np.array(psth_dict[key])\n\n# get base psth\n\nbase_neuron = neuron_list[0]\npsth = normalize_psth(base_neuron, data_df)\n\n# update mean and SEM to reflect population\n\nfor cond_id in np.sort(psth['data'].keys()):\n\n    psth['data'][cond_id]['mean'] = np.mean(psth_dict[cond_id], axis=0)\n    psth['data'][cond_id]['sem'] = (\n        np.var(psth_dict[cond_id], axis=0) / len(neuron_list))**.5"
      ], 
      "outputs": [], 
      "metadata": {
        "collapsed": false
      }
    }, 
    {
      "source": [
        "2.3 Plot PSTH\n~~~~~~~~~~~~~~~~~~~~~~~~~~~~\n\n"
      ], 
      "cell_type": "markdown", 
      "metadata": {}
    }, 
    {
      "execution_count": null, 
      "cell_type": "code", 
      "source": [
        "plt.figure(figsize=(10, 5))\nneuron.plot_psth(psth, event, condition)\nplt.title(\"\")\nplt.show()"
      ], 
      "outputs": [], 
      "metadata": {
        "collapsed": false
      }
    }
  ], 
  "metadata": {
    "kernelspec": {
      "display_name": "Python 2", 
      "name": "python2", 
      "language": "python"
    }, 
    "language_info": {
      "mimetype": "text/x-python", 
      "nbconvert_exporter": "python", 
      "name": "python", 
      "file_extension": ".py", 
      "version": "2.7.10", 
      "pygments_lexer": "ipython2", 
      "codemirror_mode": {
        "version": 2, 
        "name": "ipython"
      }
    }
  }
}